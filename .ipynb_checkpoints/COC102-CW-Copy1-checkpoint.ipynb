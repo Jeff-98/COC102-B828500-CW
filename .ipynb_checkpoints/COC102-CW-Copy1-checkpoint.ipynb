{
 "cells": [
  {
   "cell_type": "markdown",
   "metadata": {},
   "source": [
    "Import Libaries"
   ]
  },
  {
   "cell_type": "code",
   "execution_count": 1,
   "metadata": {},
   "outputs": [],
   "source": [
    "import torch\n",
    "from torch.utils.data.dataloader import DataLoader\n",
    "from torch.utils.data import random_split\n",
    "\n",
    "import torchvision\n",
    "from torchvision.datasets import MNIST\n",
    "from torchvision.transforms import ToTensor\n",
    "from torchvision.utils import make_grid\n",
    "\n",
    "import numpy as np\n",
    "\n",
    "import matplotlib\n",
    "import matplotlib.pyplot as plt\n",
    "\n",
    "import torch.nn as nn\n",
    "import torch.nn.functional as func\n",
    "\n",
    "from six.moves import urllib"
   ]
  },
  {
   "cell_type": "code",
   "execution_count": 2,
   "metadata": {},
   "outputs": [],
   "source": [
    "acc_list=[]"
   ]
  },
  {
   "cell_type": "markdown",
   "metadata": {},
   "source": [
    "Download the MNIST Dataset"
   ]
  },
  {
   "cell_type": "code",
   "execution_count": 3,
   "metadata": {},
   "outputs": [],
   "source": [
    "opener = urllib.request.build_opener()\n",
    "opener.addheaders = [('User-agent', 'Mozilla/5.0')]\n",
    "urllib.request.install_opener(opener)\n",
    "\n",
    "dataset = MNIST(root='data/', download=True, transform=ToTensor())"
   ]
  },
  {
   "cell_type": "markdown",
   "metadata": {},
   "source": [
    "Split Dataset into Training and Validation Set"
   ]
  },
  {
   "cell_type": "code",
   "execution_count": 4,
   "metadata": {},
   "outputs": [
    {
     "name": "stdout",
     "output_type": "stream",
     "text": [
      "60000\n",
      "48000\n",
      "12000\n"
     ]
    }
   ],
   "source": [
    "print(len(dataset))\n",
    "val_precentage = 0.2 #take 20% of the training set to be the validation set\n",
    "val_size = int(len(dataset)*val_precentage)\n",
    "train_size = int(len(dataset)-val_size)\n",
    "\n",
    "train_set, val_set = random_split(dataset, [train_size, val_size])\n",
    "print(len(train_set))\n",
    "print(len(val_set))"
   ]
  },
  {
   "cell_type": "markdown",
   "metadata": {},
   "source": [
    "Create Dataloaders"
   ]
  },
  {
   "cell_type": "code",
   "execution_count": 5,
   "metadata": {},
   "outputs": [],
   "source": [
    "batch_size = 128\n",
    "train_loader = DataLoader(train_set, batch_size, shuffle = True, num_workers = 2)\n",
    "val_loader = DataLoader(val_set, batch_size, num_workers = 2)"
   ]
  },
  {
   "cell_type": "markdown",
   "metadata": {},
   "source": [
    "Accuracy Function"
   ]
  },
  {
   "cell_type": "code",
   "execution_count": 6,
   "metadata": {},
   "outputs": [
    {
     "data": {
      "text/plain": [
       "'\\ndef accuracy(outputs, labels):\\n    _, preds = torch.max(outputs, dim = 1)\\n    return torch.tensor(torch.sum(preds == labels).item()/len(preds))\\n'"
      ]
     },
     "execution_count": 6,
     "metadata": {},
     "output_type": "execute_result"
    }
   ],
   "source": [
    "'''\n",
    "def accuracy(outputs, labels):\n",
    "    _, preds = torch.max(outputs, dim = 1)\n",
    "    return torch.tensor(torch.sum(preds == labels).item()/len(preds))\n",
    "'''"
   ]
  },
  {
   "cell_type": "markdown",
   "metadata": {},
   "source": [
    "Evaluate Function"
   ]
  },
  {
   "cell_type": "code",
   "execution_count": 7,
   "metadata": {},
   "outputs": [
    {
     "data": {
      "text/plain": [
       "'\\ndef evaluate(model, val_loader):\\n    outputs = [model_1.validation(batch) for batch in val_loader]\\n    return model_1.validation_end(outputs)\\n'"
      ]
     },
     "execution_count": 7,
     "metadata": {},
     "output_type": "execute_result"
    }
   ],
   "source": [
    "'''\n",
    "def evaluate(model, val_loader):\n",
    "    outputs = [model_1.validation(batch) for batch in val_loader]\n",
    "    return model_1.validation_end(outputs)\n",
    "'''"
   ]
  },
  {
   "cell_type": "markdown",
   "metadata": {},
   "source": [
    "Define the First Model"
   ]
  },
  {
   "cell_type": "code",
   "execution_count": 8,
   "metadata": {},
   "outputs": [
    {
     "name": "stdout",
     "output_type": "stream",
     "text": [
      "Using cpu device\n"
     ]
    }
   ],
   "source": [
    "input_size = 28*28\n",
    "output_size = 10\n",
    "\n",
    "#loss_fn = nn.CrossEntropyLoss()\n",
    "#optimizer = torch.optim.SGD(model.parameters(), lr=1e-3)\n",
    "\n",
    "device = \"cuda\" if torch.cuda.is_available() else \"cpu\"\n",
    "print(\"Using {} device\".format(device))"
   ]
  },
  {
   "cell_type": "markdown",
   "metadata": {},
   "source": [
    "Model_1: simple linear regression with no hidden layer"
   ]
  },
  {
   "cell_type": "code",
   "execution_count": 9,
   "metadata": {},
   "outputs": [
    {
     "name": "stdout",
     "output_type": "stream",
     "text": [
      "Model_1(\n",
      "  (flatten): Flatten(start_dim=1, end_dim=-1)\n",
      "  (linear): Linear(in_features=784, out_features=10, bias=True)\n",
      ")\n"
     ]
    }
   ],
   "source": [
    "class Model_1(nn.Module):\n",
    "    def __init__(self):\n",
    "        super().__init__()\n",
    "        self.flatten = nn.Flatten()\n",
    "        self.linear = nn.Linear(input_size, output_size)\n",
    "    \n",
    "    def forward(self, xb):\n",
    "        xb = self.flatten(xb) #flattern the images\n",
    "        out = self.linear(xb)\n",
    "        return out\n",
    "    '''\n",
    "    def training(self, batch):\n",
    "        images, labels = batch\n",
    "        pred = self(images)                     #get predictions\n",
    "        loss = loss_fn(pred, labels)            #calculate the loss\n",
    "        return loss\n",
    "    \n",
    "    def validation(self, batch):\n",
    "        images, labels = batch\n",
    "        pred = self(images)                     #get predictions\n",
    "        loss = loss_fn(pred, labels)            #calculate the loss\n",
    "        acc = accuracy(pred, labels)            #calculate accuracy\n",
    "        return {'val_loss': loss, 'val_acc': acc}\n",
    "    \n",
    "    def validation_end(self, outputs):\n",
    "        batch_loss = [x['val_loss']for x in outputs]\n",
    "        epoch_loss = torch.stack(batch_loss).mean()\n",
    "        \n",
    "        batch_acc = [x['val_acc'] for x in outputs]\n",
    "        epoch_acc = torch.stack(batch_acc).mean()\n",
    "        return{'val_loss': epoch_loss.item(), 'val_acc': epoch_acc.item()}\n",
    "    \n",
    "    def epoch_end(self, epoch, result):\n",
    "        print(\"Epoch [{}], val_loss: {:.4f}, val_acc: {:.4f}\".format(epoch, result['val_loss'], result['val_acc']))\n",
    "    '''\n",
    "model_1 = Model_1().to(device)\n",
    "print(model_1)"
   ]
  },
  {
   "cell_type": "code",
   "execution_count": 10,
   "metadata": {},
   "outputs": [],
   "source": [
    "loss_fn = nn.CrossEntropyLoss()\n",
    "#optimizer = torch.optim.SGD(model_1.parameters(), lr=1e-3)"
   ]
  },
  {
   "cell_type": "code",
   "execution_count": 11,
   "metadata": {},
   "outputs": [],
   "source": [
    "def train(dataloader, model, loss_fn, lr, opt_func=torch.optim.SGD):\n",
    "    optimizer = opt_func(model.parameters(), lr)\n",
    "    size = len(dataloader.dataset)\n",
    "    for batch, (X, y) in enumerate(dataloader):\n",
    "        X, y = X.to(device), y.to(device)\n",
    "\n",
    "        # Compute prediction error\n",
    "        pred = model(X)\n",
    "        loss = loss_fn(pred, y)\n",
    "\n",
    "        # Backpropagation\n",
    "        optimizer.zero_grad()\n",
    "        loss.backward()\n",
    "        optimizer.step()\n",
    "\n",
    "        if batch % 100 == 0:\n",
    "            loss, current = loss.item(), batch * len(X)\n",
    "            print(f\"loss: {loss:>7f}  [{current:>5d}/{size:>5d}]\")"
   ]
  },
  {
   "cell_type": "code",
   "execution_count": 12,
   "metadata": {},
   "outputs": [],
   "source": [
    "def validate(dataloader, model):\n",
    "    size = len(dataloader.dataset)\n",
    "    model.eval()\n",
    "    val_loss, correct = 0, 0\n",
    "    with torch.no_grad():\n",
    "        for X, y in dataloader:\n",
    "            X, y = X.to(device), y.to(device)\n",
    "            pred = model(X)\n",
    "            val_loss += loss_fn(pred, y).item()\n",
    "            correct += (pred.argmax(1) == y).type(torch.float).sum().item()\n",
    "    val_loss /= size\n",
    "    correct /= size\n",
    "    print(f\"Validation Error: \\n Accuracy: {(100*correct):>0.1f}%, Avg loss: {val_loss:>8f} \\n\")\n",
    "    #acc_list.append(100*correct)\n",
    "    return correct"
   ]
  },
  {
   "cell_type": "code",
   "execution_count": 13,
   "metadata": {},
   "outputs": [],
   "source": [
    "def fit(epochs, model, train_dataloader, val_dataloader, loss_fn, lr): #optimizer\n",
    "    for epoch in range(epochs):\n",
    "        print(f\"Epoch {epoch+1}\\n-------------------------------\")\n",
    "        train(train_dataloader, model, loss_fn, lr) #optimizer\n",
    "        acc_list.append(validate(val_dataloader, model)*100)\n",
    "    print(\"TRAINING COMPLETE\")"
   ]
  },
  {
   "cell_type": "code",
   "execution_count": 14,
   "metadata": {},
   "outputs": [
    {
     "name": "stdout",
     "output_type": "stream",
     "text": [
      "Epoch 1\n",
      "-------------------------------\n",
      "loss: 2.323726  [    0/48000]\n",
      "loss: 2.211032  [12800/48000]\n",
      "loss: 2.121609  [25600/48000]\n",
      "loss: 2.014757  [38400/48000]\n",
      "Validation Error: \n",
      " Accuracy: 63.6%, Avg loss: 0.015435 \n",
      "\n",
      "Epoch 2\n",
      "-------------------------------\n",
      "loss: 1.972466  [    0/48000]\n",
      "loss: 1.901933  [12800/48000]\n",
      "loss: 1.831596  [25600/48000]\n",
      "loss: 1.705404  [38400/48000]\n",
      "Validation Error: \n",
      " Accuracy: 73.0%, Avg loss: 0.013371 \n",
      "\n",
      "Epoch 3\n",
      "-------------------------------\n",
      "loss: 1.612115  [    0/48000]\n",
      "loss: 1.697743  [12800/48000]\n",
      "loss: 1.533877  [25600/48000]\n",
      "loss: 1.554254  [38400/48000]\n",
      "Validation Error: \n",
      " Accuracy: 76.2%, Avg loss: 0.011815 \n",
      "\n",
      "Epoch 4\n",
      "-------------------------------\n",
      "loss: 1.520272  [    0/48000]\n",
      "loss: 1.394028  [12800/48000]\n",
      "loss: 1.416894  [25600/48000]\n",
      "loss: 1.405413  [38400/48000]\n",
      "Validation Error: \n",
      " Accuracy: 77.7%, Avg loss: 0.010628 \n",
      "\n",
      "Epoch 5\n",
      "-------------------------------\n",
      "loss: 1.385572  [    0/48000]\n",
      "loss: 1.333426  [12800/48000]\n",
      "loss: 1.296952  [25600/48000]\n",
      "loss: 1.264964  [38400/48000]\n",
      "Validation Error: \n",
      " Accuracy: 79.1%, Avg loss: 0.009709 \n",
      "\n",
      "Epoch 6\n",
      "-------------------------------\n",
      "loss: 1.212962  [    0/48000]\n",
      "loss: 1.244522  [12800/48000]\n",
      "loss: 1.164085  [25600/48000]\n",
      "loss: 1.150956  [38400/48000]\n",
      "Validation Error: \n",
      " Accuracy: 80.1%, Avg loss: 0.008982 \n",
      "\n",
      "Epoch 7\n",
      "-------------------------------\n",
      "loss: 1.109249  [    0/48000]\n",
      "loss: 1.127355  [12800/48000]\n",
      "loss: 1.040231  [25600/48000]\n",
      "loss: 1.041122  [38400/48000]\n",
      "Validation Error: \n",
      " Accuracy: 80.9%, Avg loss: 0.008395 \n",
      "\n",
      "Epoch 8\n",
      "-------------------------------\n",
      "loss: 1.029577  [    0/48000]\n",
      "loss: 1.048917  [12800/48000]\n",
      "loss: 1.089226  [25600/48000]\n",
      "loss: 0.890052  [38400/48000]\n",
      "Validation Error: \n",
      " Accuracy: 81.6%, Avg loss: 0.007914 \n",
      "\n",
      "Epoch 9\n",
      "-------------------------------\n",
      "loss: 0.945011  [    0/48000]\n",
      "loss: 0.867581  [12800/48000]\n",
      "loss: 1.018818  [25600/48000]\n",
      "loss: 0.974310  [38400/48000]\n",
      "Validation Error: \n",
      " Accuracy: 82.2%, Avg loss: 0.007512 \n",
      "\n",
      "Epoch 10\n",
      "-------------------------------\n",
      "loss: 0.864935  [    0/48000]\n",
      "loss: 0.988375  [12800/48000]\n",
      "loss: 0.948615  [25600/48000]\n",
      "loss: 0.789704  [38400/48000]\n",
      "Validation Error: \n",
      " Accuracy: 82.6%, Avg loss: 0.007172 \n",
      "\n",
      "TRAINING COMPLETE\n"
     ]
    }
   ],
   "source": [
    "history1 = fit(10, model_1, train_loader, val_loader, loss_fn, 0.001)"
   ]
  },
  {
   "cell_type": "code",
   "execution_count": 15,
   "metadata": {},
   "outputs": [],
   "source": [
    "#print(acc_list)"
   ]
  },
  {
   "cell_type": "code",
   "execution_count": 16,
   "metadata": {},
   "outputs": [
    {
     "data": {
      "image/png": "[encoded data removed]",
      "text/plain": [
       "<Figure size 432x288 with 1 Axes>"
      ]
     },
     "metadata": {
      "needs_background": "light"
     },
     "output_type": "display_data"
    }
   ],
   "source": [
    "plt.plot(acc_list, '-x')\n",
    "plt.xlabel('Epoch')\n",
    "plt.ylabel('Accuracy %')\n",
    "plt.title('Accuracy vs. No. of epochs');"
   ]
  },
  {
   "cell_type": "markdown",
   "metadata": {},
   "source": [
    "Testing the model with individual image"
   ]
  },
  {
   "cell_type": "code",
   "execution_count": 17,
   "metadata": {},
   "outputs": [
    {
     "name": "stdout",
     "output_type": "stream",
     "text": [
      "10000\n"
     ]
    }
   ],
   "source": [
    "test_dataset = MNIST(root='data/',\n",
    "                    train=False,\n",
    "                    transform=ToTensor())\n",
    "print(len(test_dataset))"
   ]
  },
  {
   "cell_type": "code",
   "execution_count": 18,
   "metadata": {},
   "outputs": [
    {
     "name": "stdout",
     "output_type": "stream",
     "text": [
      "Shape:  torch.Size([1, 28, 28])\n",
      "Label:  8\n"
     ]
    },
    {
     "data": {
      "image/png": "[encoded data removed]",
      "text/plain": [
       "<Figure size 432x288 with 1 Axes>"
      ]
     },
     "metadata": {
      "needs_background": "light"
     },
     "output_type": "display_data"
    }
   ],
   "source": [
    "img, label = test_dataset[1234]\n",
    "plt.imshow(img[0], cmap='gray')\n",
    "print('Shape: ', img.shape)\n",
    "print('Label: ', label)"
   ]
  },
  {
   "cell_type": "code",
   "execution_count": 19,
   "metadata": {},
   "outputs": [],
   "source": [
    "def predict_image(img, model):\n",
    "    xb = img.unsqueeze(0)\n",
    "    yb = model(xb)\n",
    "    _, preds = torch.max(yb, dim=1)\n",
    "    return preds[0].item()"
   ]
  },
  {
   "cell_type": "code",
   "execution_count": 20,
   "metadata": {},
   "outputs": [
    {
     "name": "stdout",
     "output_type": "stream",
     "text": [
      "Label:  8 , Predicted: 5\n"
     ]
    }
   ],
   "source": [
    "img ,label = test_dataset[1234]\n",
    "print('Label: ', label, ', Predicted:', predict_image(img, model_1))"
   ]
  },
  {
   "cell_type": "code",
   "execution_count": 21,
   "metadata": {},
   "outputs": [
    {
     "name": "stdout",
     "output_type": "stream",
     "text": [
      "Label:  1 , Predicted: 1\n"
     ]
    }
   ],
   "source": [
    "img ,label = test_dataset[700]\n",
    "print('Label: ', label, ', Predicted:', predict_image(img, model_1))"
   ]
  },
  {
   "cell_type": "code",
   "execution_count": 22,
   "metadata": {},
   "outputs": [
    {
     "name": "stdout",
     "output_type": "stream",
     "text": [
      "Validation Error: \n",
      " Accuracy: 83.5%, Avg loss: 0.000884 \n",
      "\n"
     ]
    }
   ],
   "source": [
    "test_loader = DataLoader(test_dataset, batch_size=1024)\n",
    "result = validate(test_loader, model_1)"
   ]
  },
  {
   "cell_type": "code",
   "execution_count": null,
   "metadata": {},
   "outputs": [],
   "source": []
  }
 ],
 "metadata": {
  "kernelspec": {
   "display_name": "Python 3",
   "language": "python",
   "name": "python3"
  },
  "language_info": {
   "codemirror_mode": {
    "name": "ipython",
    "version": 3
   },
   "file_extension": ".py",
   "mimetype": "text/x-python",
   "name": "python",
   "nbconvert_exporter": "python",
   "pygments_lexer": "ipython3",
   "version": "3.8.5"
  }
 },
 "nbformat": 4,
 "nbformat_minor": 4
}
